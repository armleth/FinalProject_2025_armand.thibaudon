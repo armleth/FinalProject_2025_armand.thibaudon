{
 "cells": [
  {
   "cell_type": "markdown",
   "id": "7e77752c-4839-4c34-b38f-ec349695d8d0",
   "metadata": {},
   "source": [
    "# Final Project"
   ]
  },
  {
   "cell_type": "markdown",
   "id": "04503e24-8dec-4e7b-8875-90afe8083493",
   "metadata": {},
   "source": [
    "## Exploratory Data Analysis\n",
    "\n",
    "The exploratory data analysis is something that you should do before building your recommender system. It is a good way to understand your data and to get insights about it. The main goal of such a procedure is to get answers to several questions about your data, these answers should be the numerical justification for all your choices in the following steps, in particular for the feature engineering and the model selection."
   ]
  },
  {
   "cell_type": "code",
   "execution_count": 1,
   "id": "a8308080-0366-44e4-a4b8-b51ae3e603cc",
   "metadata": {},
   "outputs": [],
   "source": [
    "# Import libraries\n",
    "import pandas as pd\n",
    "import numpy as np\n",
    "\n",
    "import matplotlib.pyplot as plt\n",
    "import seaborn as sns\n",
    "\n",
    "# set plot size\n",
    "plt.rcParams[\"figure.figsize\"] = (20, 13)\n",
    "%matplotlib inline\n",
    "%config InlineBackend.figure_format = \"retina\""
   ]
  },
  {
   "cell_type": "markdown",
   "id": "6b05a1f6-4d50-40df-9090-c535f75584f0",
   "metadata": {},
   "source": [
    "For this data analysis, we will focus on the interaction data, i.e., the data that contains the user-item interactions. If you make the choice to use the other data available, you should repeat the same kind of analysis on the other data as well."
   ]
  },
  {
   "cell_type": "code",
   "execution_count": 60,
   "id": "9418e795-9d6d-4cfd-bfa7-e51ad607f60c",
   "metadata": {},
   "outputs": [
    {
     "data": {
      "text/html": [
       "<div>\n",
       "<style scoped>\n",
       "    .dataframe tbody tr th:only-of-type {\n",
       "        vertical-align: middle;\n",
       "    }\n",
       "\n",
       "    .dataframe tbody tr th {\n",
       "        vertical-align: top;\n",
       "    }\n",
       "\n",
       "    .dataframe thead th {\n",
       "        text-align: right;\n",
       "    }\n",
       "</style>\n",
       "<table border=\"1\" class=\"dataframe\">\n",
       "  <thead>\n",
       "    <tr style=\"text-align: right;\">\n",
       "      <th></th>\n",
       "      <th>user_id</th>\n",
       "      <th>video_id</th>\n",
       "      <th>play_duration</th>\n",
       "      <th>video_duration</th>\n",
       "      <th>time</th>\n",
       "      <th>date</th>\n",
       "      <th>timestamp</th>\n",
       "      <th>watch_ratio</th>\n",
       "    </tr>\n",
       "  </thead>\n",
       "  <tbody>\n",
       "    <tr>\n",
       "      <th>0</th>\n",
       "      <td>14</td>\n",
       "      <td>148</td>\n",
       "      <td>4381</td>\n",
       "      <td>6067</td>\n",
       "      <td>2020-07-05 05:27:48.378</td>\n",
       "      <td>20200705.0</td>\n",
       "      <td>1.593898e+09</td>\n",
       "      <td>0.722103</td>\n",
       "    </tr>\n",
       "    <tr>\n",
       "      <th>1</th>\n",
       "      <td>14</td>\n",
       "      <td>183</td>\n",
       "      <td>11635</td>\n",
       "      <td>6100</td>\n",
       "      <td>2020-07-05 05:28:00.057</td>\n",
       "      <td>20200705.0</td>\n",
       "      <td>1.593898e+09</td>\n",
       "      <td>1.907377</td>\n",
       "    </tr>\n",
       "    <tr>\n",
       "      <th>2</th>\n",
       "      <td>14</td>\n",
       "      <td>3649</td>\n",
       "      <td>22422</td>\n",
       "      <td>10867</td>\n",
       "      <td>2020-07-05 05:29:09.479</td>\n",
       "      <td>20200705.0</td>\n",
       "      <td>1.593898e+09</td>\n",
       "      <td>2.063311</td>\n",
       "    </tr>\n",
       "    <tr>\n",
       "      <th>3</th>\n",
       "      <td>14</td>\n",
       "      <td>5262</td>\n",
       "      <td>4479</td>\n",
       "      <td>7908</td>\n",
       "      <td>2020-07-05 05:30:43.285</td>\n",
       "      <td>20200705.0</td>\n",
       "      <td>1.593898e+09</td>\n",
       "      <td>0.566388</td>\n",
       "    </tr>\n",
       "    <tr>\n",
       "      <th>4</th>\n",
       "      <td>14</td>\n",
       "      <td>8234</td>\n",
       "      <td>4602</td>\n",
       "      <td>11000</td>\n",
       "      <td>2020-07-05 05:35:43.459</td>\n",
       "      <td>20200705.0</td>\n",
       "      <td>1.593899e+09</td>\n",
       "      <td>0.418364</td>\n",
       "    </tr>\n",
       "  </tbody>\n",
       "</table>\n",
       "</div>"
      ],
      "text/plain": [
       "   user_id  video_id  play_duration  video_duration                     time  \\\n",
       "0       14       148           4381            6067  2020-07-05 05:27:48.378   \n",
       "1       14       183          11635            6100  2020-07-05 05:28:00.057   \n",
       "2       14      3649          22422           10867  2020-07-05 05:29:09.479   \n",
       "3       14      5262           4479            7908  2020-07-05 05:30:43.285   \n",
       "4       14      8234           4602           11000  2020-07-05 05:35:43.459   \n",
       "\n",
       "         date     timestamp  watch_ratio  \n",
       "0  20200705.0  1.593898e+09     0.722103  \n",
       "1  20200705.0  1.593898e+09     1.907377  \n",
       "2  20200705.0  1.593898e+09     2.063311  \n",
       "3  20200705.0  1.593898e+09     0.566388  \n",
       "4  20200705.0  1.593899e+09     0.418364  "
      ]
     },
     "execution_count": 60,
     "metadata": {},
     "output_type": "execute_result"
    }
   ],
   "source": [
    "interactions = pd.read_csv(\"data_final_project/KuaiRec/data/small_matrix.csv\")\n",
    "\n",
    "interactions.head()"
   ]
  },
  {
   "cell_type": "markdown",
   "id": "70fc1128-5460-45c4-a595-2c4ffbeb7139",
   "metadata": {},
   "source": [
    "### Questions about the data\n",
    "- How many unique users and items are there in the data? Results are coherent with the Table 1 of the paper"
   ]
  },
  {
   "cell_type": "code",
   "execution_count": 21,
   "id": "b9c64c97-ab92-4d84-8e1b-022b7507b9fb",
   "metadata": {},
   "outputs": [
    {
     "name": "stdout",
     "output_type": "stream",
     "text": [
      "Users len: 1411\n",
      "Videos len: 3327\n"
     ]
    }
   ],
   "source": [
    "users_len = interactions[\"user_id\"].nunique()\n",
    "videos_len = interactions[\"video_id\"].nunique()\n",
    "\n",
    "print(f\"Users len: {users_len}\")\n",
    "print(f\"Videos len: {videos_len}\")"
   ]
  },
  {
   "cell_type": "markdown",
   "id": "951f15aa-f876-4dc0-bf8b-7e07a463b75c",
   "metadata": {},
   "source": [
    "- What are the data types?"
   ]
  },
  {
   "cell_type": "code",
   "execution_count": 19,
   "id": "d1acffc1-ca5c-4b4f-a9ca-e70d759885a3",
   "metadata": {},
   "outputs": [
    {
     "name": "stdout",
     "output_type": "stream",
     "text": [
      "user_id             int64\n",
      "video_id            int64\n",
      "play_duration       int64\n",
      "video_duration      int64\n",
      "time               object\n",
      "date              float64\n",
      "timestamp         float64\n",
      "watch_ratio       float64\n",
      "dtype: object\n"
     ]
    }
   ],
   "source": [
    "print(interactions.dtypes)"
   ]
  },
  {
   "cell_type": "markdown",
   "id": "6f593e29-b850-4eab-9226-e3eb1dcd3675",
   "metadata": {},
   "source": [
    "To specify what are each column:\n",
    "\n",
    "| Field Name     | Description                                      | Type     |\n",
    "|----------------|--------------------------------------------------|----------|\n",
    "| user_id        | The ID of the user.                              | int64    |\n",
    "| video_id       | The ID of the viewed video.                      | int64    |\n",
    "| play_duration  | Time of video viewing of this interaction (ms).  | int64    |\n",
    "| video_duration | Time of this video (ms).                         | int64    |\n",
    "| time           | Human-readable date for this interaction.        | str      |\n",
    "| date           | Date of this interaction.                        | int64    |\n",
    "| timestamp      | Unix timestamp.                                  | float64  |\n",
    "| watch_ratio    | The video watching ratio                         | float64  |"
   ]
  },
  {
   "cell_type": "markdown",
   "id": "e9fd75f2-f5a9-41f1-9232-8a5fdfee03a6",
   "metadata": {},
   "source": [
    "- Are there timestamps, and if so, what is their range?"
   ]
  },
  {
   "cell_type": "code",
   "execution_count": 25,
   "id": "936d9400-5b8a-4389-80a6-c84ef1f72285",
   "metadata": {},
   "outputs": [
    {
     "name": "stdout",
     "output_type": "stream",
     "text": [
      "Timestamp range: 2020-07-04 02:23:26.060000 to 2020-09-05 23:57:23.683000\n"
     ]
    }
   ],
   "source": [
    "interactions[\"time\"] = pd.to_datetime(interactions[\"time\"])\n",
    "\n",
    "print(f\"Timestamp range: {interactions[\"time\"].min()} to {interactions[\"time\"].max()}\")"
   ]
  },
  {
   "cell_type": "markdown",
   "id": "5abefac7-e2bb-4d76-9b44-7cc15694d94d",
   "metadata": {},
   "source": [
    "- How many interactions are there in the data? Per user? Per item?"
   ]
  },
  {
   "cell_type": "code",
   "execution_count": 34,
   "id": "a6679c4c-793c-4eec-97cd-c426c9b10c32",
   "metadata": {},
   "outputs": [
    {
     "name": "stdout",
     "output_type": "stream",
     "text": [
      "Total interactions number 4676570\n",
      "Mean interactions per user: 3314.3656980864635\n",
      "Mean interactions per item: 1405.6417192666065\n"
     ]
    }
   ],
   "source": [
    "total_interactions = len(interactions)\n",
    "print(f\"Total interactions number {total_interactions}\")\n",
    "\n",
    "interactions_per_user = interactions.groupby(\"user_id\").size()\n",
    "print(f\"Mean interactions per user: {interactions_per_user.mean()}\")\n",
    "\n",
    "interactions_per_item = interactions.groupby(\"video_id\").size()\n",
    "print(f\"Mean interactions per item: {interactions_per_item.mean()}\")"
   ]
  },
  {
   "cell_type": "markdown",
   "id": "407ed17e-b3fa-4b99-b945-b8914a9f7690",
   "metadata": {},
   "source": [
    "Both mean interactions per user and per item are very close of the number of user/item: 3314 for 3327 videos and 1406 for 1411 users. This shows the high density of the small_matrix dataset.<br>\n",
    "Let's to to calculate the **density** of the small_matrix dataset with the following formula:\n",
    "\n",
    "$$\n",
    "\\text{Density} = \\frac{\\text{Number of observed user-item interactions}}{\\text{Number of unique users} \\times \\text{Number of unique items}}\n",
    "$$"
   ]
  },
  {
   "cell_type": "code",
   "execution_count": 40,
   "id": "81d1aa80-4e4e-4a48-a80e-39c7d9b7b9a8",
   "metadata": {},
   "outputs": [
    {
     "name": "stdout",
     "output_type": "stream",
     "text": [
      "small_matrix dataset density: 99.62024941648522%\n"
     ]
    }
   ],
   "source": [
    "interactions_density = total_interactions / (users_len * videos_len)\n",
    "print(f\"small_matrix dataset density: {interactions_density * 100}%\")"
   ]
  },
  {
   "cell_type": "markdown",
   "id": "90fd28fa-993a-4918-9e25-79b9c9462b62",
   "metadata": {},
   "source": [
    "We get exactly the density of small_matrix described by the paper on Table 1"
   ]
  },
  {
   "cell_type": "markdown",
   "id": "03dbe8f8-e950-4961-9c89-4feed65505dc",
   "metadata": {},
   "source": [
    " - What is the distribution of the interactions? Per user? Per item?"
   ]
  },
  {
   "cell_type": "code",
   "execution_count": null,
   "id": "5340b123-a858-435a-b7e0-41466b90b589",
   "metadata": {},
   "outputs": [],
   "source": []
  },
  {
   "cell_type": "markdown",
   "id": "ea39249d-3e86-492d-a741-5d59527cf5ca",
   "metadata": {},
   "source": [
    "###  Data Quality & Missing Values"
   ]
  },
  {
   "cell_type": "markdown",
   "id": "227e9b44-4afd-428e-8dd4-d7c10e609b0c",
   "metadata": {},
   "source": [
    "- Checking for missing value: a lot of time/date/timestamps are missing from the dataset, but other categories don't present any missing values."
   ]
  },
  {
   "cell_type": "code",
   "execution_count": 43,
   "id": "663d0b74-6b34-4f8a-b5ce-b5ea210600e5",
   "metadata": {},
   "outputs": [
    {
     "data": {
      "text/plain": [
       "user_id                0\n",
       "video_id               0\n",
       "play_duration          0\n",
       "video_duration         0\n",
       "time              181992\n",
       "date              181992\n",
       "timestamp         181992\n",
       "watch_ratio            0\n",
       "dtype: int64"
      ]
     },
     "execution_count": 43,
     "metadata": {},
     "output_type": "execute_result"
    }
   ],
   "source": [
    "interactions.isnull().sum()"
   ]
  },
  {
   "cell_type": "markdown",
   "id": "9dc5bc4c-d678-42d7-98cd-d4277bfc2e5c",
   "metadata": {},
   "source": [
    "- Checking for duplicates: no found (TODO: do something smarter, for example comparing only user_id and video_id)"
   ]
  },
  {
   "cell_type": "code",
   "execution_count": 46,
   "id": "d68d0bb7-8661-411f-91a1-5572b5bde9a6",
   "metadata": {},
   "outputs": [
    {
     "data": {
      "text/plain": [
       "0"
      ]
     },
     "execution_count": 46,
     "metadata": {},
     "output_type": "execute_result"
    }
   ],
   "source": [
    "interactions.duplicated().sum()"
   ]
  },
  {
   "cell_type": "markdown",
   "id": "b3b2f0fd-e05d-4f7a-a35e-4d5b49a52299",
   "metadata": {},
   "source": [
    "- Checking for negative or zero durations and negative timestamps: no found"
   ]
  },
  {
   "cell_type": "code",
   "execution_count": 57,
   "id": "df6bb76a-4880-4db3-b9b5-bd102665d633",
   "metadata": {},
   "outputs": [
    {
     "name": "stdout",
     "output_type": "stream",
     "text": [
      "0\n",
      "0\n"
     ]
    }
   ],
   "source": [
    "print((interactions[\"play_duration\"] < 0).sum() + (interactions[\"video_duration\"] <= 0).sum())\n",
    "print((interactions[\"timestamp\"] < 0).sum())"
   ]
  },
  {
   "cell_type": "markdown",
   "id": "25762818-7388-496c-afbd-0412529ec51d",
   "metadata": {},
   "source": [
    "- Checking for anomalies in watch ratio: there are some rare very high and very low watch ratio values, we would need to handle this."
   ]
  },
  {
   "cell_type": "code",
   "execution_count": 62,
   "id": "887fe4ab-90aa-44f0-b0f5-303d0b8987fc",
   "metadata": {},
   "outputs": [
    {
     "name": "stdout",
     "output_type": "stream",
     "text": [
      "Watch ratio range: 0.0 to 571.5214280603849\n",
      "Watch ratio range: 7.208038404428618e-06 to 571.5214280603849\n"
     ]
    }
   ],
   "source": [
    "print(f\"Watch ratio range: {interactions[\"watch_ratio\"].min()} to {interactions[\"watch_ratio\"].max()}\")\n",
    "\n",
    "# Exclude zero values for min calculation\n",
    "non_zero_watch_ratios = interactions[interactions['watch_ratio'] > 0]['watch_ratio']\n",
    "print(f\"Watch ratio range: {non_zero_watch_ratios.min()} to {interactions[\"watch_ratio\"].max()}\")"
   ]
  },
  {
   "cell_type": "code",
   "execution_count": 64,
   "id": "2cace60d-214c-4332-b532-76cedff243fa",
   "metadata": {},
   "outputs": [
    {
     "data": {
      "image/png": "[encoded data removed]",
      "text/plain": [
       "<Figure size 1000x500 with 1 Axes>"
      ]
     },
     "metadata": {
      "image/png": {
       "height": 469,
       "width": 868
      }
     },
     "output_type": "display_data"
    }
   ],
   "source": [
    "plt.figure(figsize=(10, 5))\n",
    "sns.histplot(interactions[\"watch_ratio\"], bins=30, kde=True)\n",
    "plt.title(\"Distribution of Watch Ratios\")\n",
    "plt.xlabel(\"Watch Ratio\")\n",
    "plt.ylabel(\"Frequency\")\n",
    "plt.grid(True)\n",
    "plt.show()"
   ]
  },
  {
   "cell_type": "markdown",
   "id": "fc97c475-b93e-4a92-a138-50e74490aae8",
   "metadata": {},
   "source": [
    "- Additionnal data checks:"
   ]
  },
  {
   "cell_type": "code",
   "execution_count": 72,
   "id": "c75e3d92-2f44-493c-b9fd-914789508d52",
   "metadata": {},
   "outputs": [
    {
     "name": "stdout",
     "output_type": "stream",
     "text": [
      "Average watch ratio per user: 0.9071101913841102\n",
      "Average watch ratio per video: 0.9074657802747494\n",
      "\n",
      "Top 5 videos by average watch ratio:\n",
      "video_id\n",
      "9178    2.847027\n",
      "7383    2.750670\n",
      "4040    2.707022\n",
      "314     2.622876\n",
      "8298    2.593061\n",
      "Name: watch_ratio, dtype: float64\n",
      "\n",
      "Top 5 users by total watch time:\n",
      "user_id\n",
      "2463    70864971\n",
      "5369    64378637\n",
      "203     63349684\n",
      "6301    58235368\n",
      "798     57517052\n",
      "Name: total_watch_time, dtype: int64\n"
     ]
    }
   ],
   "source": [
    "# Average watch ratio per user\n",
    "avg_watch_ratio_user = interactions.groupby(\"user_id\")[\"watch_ratio\"].mean()\n",
    "print(f\"Average watch ratio per user: {avg_watch_ratio_user.mean()}\")\n",
    "\n",
    "# Average watch ratio per video\n",
    "avg_watch_ratio_video = interactions.groupby(\"video_id\")[\"watch_ratio\"].mean()\n",
    "print(f\"Average watch ratio per video: {avg_watch_ratio_video.mean()}\")\n",
    "\n",
    "# Top 5 videos with highest average watch ratio\n",
    "top_videos = avg_watch_ratio_video.sort_values(ascending=False).head()\n",
    "print(\"\\nTop 5 videos by average watch ratio:\")\n",
    "print(top_videos)\n",
    "\n",
    "# Top 5 users by total watch time\n",
    "interactions['total_watch_time'] = interactions['play_duration']\n",
    "top_users = interactions.groupby('user_id')['total_watch_time'].sum().sort_values(ascending=False).head()\n",
    "print(\"\\nTop 5 users by total watch time:\")\n",
    "print(top_users)"
   ]
  }
 ],
 "metadata": {
  "kernelspec": {
   "display_name": "Python 3 (ipykernel)",
   "language": "python",
   "name": "python3"
  },
  "language_info": {
   "codemirror_mode": {
    "name": "ipython",
    "version": 3
   },
   "file_extension": ".py",
   "mimetype": "text/x-python",
   "name": "python",
   "nbconvert_exporter": "python",
   "pygments_lexer": "ipython3",
   "version": "3.12.8"
  }
 },
 "nbformat": 4,
 "nbformat_minor": 5
}
